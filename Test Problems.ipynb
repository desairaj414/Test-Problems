{
 "cells": [
  {
   "cell_type": "code",
   "execution_count": 9,
   "metadata": {},
   "outputs": [],
   "source": [
    "#Importing\n",
    "import math"
   ]
  },
  {
   "cell_type": "code",
   "execution_count": 11,
   "metadata": {},
   "outputs": [
    {
     "name": "stdout",
     "output_type": "stream",
     "text": [
      "Enter comma separted values of d:\n",
      "100,150,180\n",
      "[18, 22, 24]\n"
     ]
    }
   ],
   "source": [
    "#Program-1\n",
    "print('Enter comma separted values of d:')\n",
    "inlt1=input()\n",
    "inlt2=inlt1.split(',')\n",
    "inlt3=[]\n",
    "for i in inlt2:\n",
    "    inlt3.append(int(i))\n",
    "\n",
    "c=50\n",
    "h=30\n",
    "oplt1=[]\n",
    "for d in inlt3:\n",
    "    x=math.sqrt((2*c*d)/h)\n",
    "    oplt1.append(int(x))\n",
    "print(oplt1)"
   ]
  },
  {
   "cell_type": "code",
   "execution_count": 12,
   "metadata": {
    "scrolled": false
   },
   "outputs": [
    {
     "name": "stdout",
     "output_type": "stream",
     "text": [
      "Enter comma separted values of Row & Column:\n",
      "3,5\n",
      "[[0, 0, 0, 0, 0], [0, 1, 2, 3, 4], [0, 2, 4, 6, 8]]\n"
     ]
    }
   ],
   "source": [
    "#Program-2\n",
    "print('Enter comma separted values of Row & Column:')\n",
    "inlt1=input()\n",
    "inlt2=inlt1.split(',')\n",
    "inlt3=[]\n",
    "for i in inlt2:\n",
    "    inlt3.append(int(i))\n",
    "\n",
    "r=inlt3[0]\n",
    "c=inlt3[1]\n",
    "lt2=[[0 for i in range (int(c))]for j in range (int(r))]\n",
    "for i in range(int(r)):\n",
    "    for j in range(int(c)):\n",
    "        lt2[i][j]=(i*j)\n",
    "print(lt2)"
   ]
  },
  {
   "cell_type": "code",
   "execution_count": 13,
   "metadata": {},
   "outputs": [
    {
     "name": "stdout",
     "output_type": "stream",
     "text": [
      "Enter comma separted names to sort:\n",
      "raj,jay,om,desai\n",
      "['desai', 'jay', 'om', 'raj']\n"
     ]
    }
   ],
   "source": [
    "#Program-3\n",
    "print('Enter comma separted names to sort:')\n",
    "inlt1=input()\n",
    "inlt2=inlt1.split(',')\n",
    "count=0\n",
    "for i in inlt2:\n",
    "    count=count+1\n",
    "\n",
    "temp=''\n",
    "for i in range(count):\n",
    "    for j in range(count):\n",
    "        if inlt2[i] < inlt2[j]:\n",
    "            temp=inlt2[i]\n",
    "            inlt2[i]=inlt2[j]\n",
    "            inlt2[j]=temp\n",
    "\n",
    "print(inlt2)"
   ]
  },
  {
   "cell_type": "code",
   "execution_count": 14,
   "metadata": {
    "scrolled": true
   },
   "outputs": [
    {
     "name": "stdout",
     "output_type": "stream",
     "text": [
      "Enter the whole statement\n",
      "my name is raj but others name is also raj\n",
      "my : 1\n",
      "name : 2\n",
      "is : 2\n",
      "raj : 2\n",
      "but : 1\n",
      "others : 1\n",
      "also : 1\n"
     ]
    }
   ],
   "source": [
    "#Program-4\n",
    "print('Enter the whole statement')\n",
    "inlt1=input()\n",
    "inlt2=inlt1.split(' ')\n",
    "count=0\n",
    "for i in inlt2:\n",
    "    count=count+1\n",
    "\n",
    "d={}\n",
    "for i in inlt2:\n",
    "    d[i]='0'\n",
    "for i in inlt2:\n",
    "    d[i]=str(int(d[i])+1)\n",
    "for i in d:\n",
    "    print(i,':',d[i])  "
   ]
  },
  {
   "cell_type": "code",
   "execution_count": 16,
   "metadata": {},
   "outputs": [],
   "source": [
    "#Program-5\n",
    "class practice:\n",
    "    \n",
    "    \n",
    "    def program1(self):\n",
    "        #Program-1\n",
    "        print('Enter comma separted values of d:')\n",
    "        inlt1=input()\n",
    "        inlt2=inlt1.split(',')\n",
    "        inlt3=[]\n",
    "        for i in inlt2:\n",
    "            inlt3.append(int(i))\n",
    "        \n",
    "        c=50\n",
    "        h=30\n",
    "        oplt1=[]\n",
    "        for d in inlt3:\n",
    "            x=math.sqrt((2*c*d)/h)\n",
    "            oplt1.append(int(x))\n",
    "        \n",
    "        print(oplt1)\n",
    "    \n",
    "    \n",
    "    def program2(self):\n",
    "        #Program-2\n",
    "        print('Enter comma separted values of Row & Column:')\n",
    "        inlt1=input()\n",
    "        inlt2=inlt1.split(',')\n",
    "        inlt3=[]\n",
    "        for i in inlt2:\n",
    "            inlt3.append(int(i))\n",
    "        \n",
    "        r=inlt3[0]\n",
    "        c=inlt3[1]\n",
    "        lt2=[[0 for i in range (int(c))]for j in range (int(r))]\n",
    "        for i in range(int(r)):\n",
    "            for j in range(int(c)):\n",
    "                lt2[i][j]=(i*j)\n",
    "        \n",
    "        print(lt2)\n",
    "    \n",
    "    \n",
    "    def program3(self):\n",
    "        #Program-3\n",
    "        print('Enter comma separted names to sort:')\n",
    "        inlt1=input()\n",
    "        inlt2=inlt1.split(',')\n",
    "        count=0\n",
    "        for i in inlt2:\n",
    "            count=count+1\n",
    "        \n",
    "        temp=''\n",
    "        for i in range(count):\n",
    "            for j in range(count):\n",
    "                if inlt2[i] < inlt2[j]:\n",
    "                    temp=inlt2[i]\n",
    "                    inlt2[i]=inlt2[j]\n",
    "                    inlt2[j]=temp\n",
    "        \n",
    "        print(inlt2)\n",
    "    \n",
    "    \n",
    "    def program4(self):\n",
    "        #Program-4\n",
    "        print('Enter the whole statement')\n",
    "        inlt1=input()\n",
    "        inlt2=inlt1.split(' ')\n",
    "        count=0\n",
    "        for i in inlt2:\n",
    "            count=count+1\n",
    "        \n",
    "        d={}\n",
    "        for i in inlt2:\n",
    "            d[i]='0'\n",
    "        for i in inlt2:\n",
    "            d[i]=str(int(d[i])+1)\n",
    "        for i in d:\n",
    "            print(i,':',d[i])  "
   ]
  },
  {
   "cell_type": "code",
   "execution_count": 17,
   "metadata": {},
   "outputs": [
    {
     "name": "stdout",
     "output_type": "stream",
     "text": [
      "Enter which program u want to run from 1 to 4:\n",
      "1\n",
      "Enter comma separted values of d:\n",
      "100,150,180\n",
      "[18, 22, 24]\n"
     ]
    }
   ],
   "source": [
    "#Program-5(Conti)\n",
    "p=practice()\n",
    "print('Enter which program u want to run from 1 to 4:')\n",
    "x=input()\n",
    "\n",
    "if x=='1':\n",
    "    p.program1()\n",
    "elif x=='2':\n",
    "    p.program2()\n",
    "elif x=='3':\n",
    "    p.program3()\n",
    "elif x=='4':\n",
    "    p.program4()\n",
    "else:\n",
    "    print('Wrong Input')"
   ]
  }
 ],
 "metadata": {
  "kernelspec": {
   "display_name": "Python 3",
   "language": "python",
   "name": "python3"
  },
  "language_info": {
   "codemirror_mode": {
    "name": "ipython",
    "version": 3
   },
   "file_extension": ".py",
   "mimetype": "text/x-python",
   "name": "python",
   "nbconvert_exporter": "python",
   "pygments_lexer": "ipython3",
   "version": "3.7.3"
  }
 },
 "nbformat": 4,
 "nbformat_minor": 2
}
